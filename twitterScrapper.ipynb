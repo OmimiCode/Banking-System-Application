{
  "nbformat": 4,
  "nbformat_minor": 0,
  "metadata": {
    "colab": {
      "name": "twitterScrapper.ipynb",
      "provenance": [],
      "authorship_tag": "ABX9TyO3F7+ytU4h7T3e/NDrOJ6o",
      "include_colab_link": true
    },
    "kernelspec": {
      "name": "python3",
      "display_name": "Python 3"
    },
    "language_info": {
      "name": "python"
    }
  },
  "cells": [
    {
      "cell_type": "markdown",
      "metadata": {
        "id": "view-in-github",
        "colab_type": "text"
      },
      "source": [
        "<a href=\"https://colab.research.google.com/github/OmimiCode/Banking-System-Application/blob/master/twitterScrapper.ipynb\" target=\"_parent\"><img src=\"https://colab.research.google.com/assets/colab-badge.svg\" alt=\"Open In Colab\"/></a>"
      ]
    },
    {
      "cell_type": "code",
      "metadata": {
        "id": "n5swpd05sFbM"
      },
      "source": [
        "import pandas as pd \n",
        "import tweepy \n",
        "\n",
        "api_key = ''\n",
        "api_secret_key =''\n",
        "access_token =''\n",
        "access_token_secret =''\n",
        "\n",
        "auth = tweepy.OAuthHandler(api_key, api_secret_key)\n",
        "auth.set_access_token(access_token, access_token_secret)\n",
        "\n",
        "api = tweepy.API(auth, wait_on_rate_limit = True)\n",
        "\n",
        "\n",
        "tweets = tweepy.Cursor(api.search, q='#EndSars -filter:retweets', lang ='en').items(1000)\n",
        "\n",
        "#pulling information from tweets iterable object\n",
        "\n",
        "tweets_list = [[tweet.created_at, tweet.user.screen_name, tweet.text, tweet.favorite_count,tweet.retweet_count]\n",
        "               for tweet in tweets]\n",
        "\n",
        "tweets__dict__\n",
        "tweets_df = pd.DataFrame(tweets_list)\n",
        "\n",
        "tweets_df\n",
        "\n",
        "#converting dataframe to csv\n",
        "tweets_df.to_csv('title.csv', sep=',', index= False)"
      ],
      "execution_count": null,
      "outputs": []
    }
  ]
}